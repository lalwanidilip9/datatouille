{
  "metadata": {
    "kernelspec": {
      "display_name": "Python 3",
      "language": "python",
      "name": "python3"
    },
    "language_info": {
      "codemirror_mode": {
        "name": "ipython",
        "version": 3
      },
      "file_extension": ".py",
      "mimetype": "text/x-python",
      "name": "python",
      "nbconvert_exporter": "python",
      "pygments_lexer": "ipython3",
      "version": "3.5.2"
    }
  },
  "nbformat": 4,
  "nbformat_minor": 0,
  "cells": [
    {
      "cell_type": "markdown",
      "source": "Hey, I am trying to explore the Pokemon Go battles here. Let's start!\n---------------------------------------------------------------------",
      "metadata": {}
    },
    {
      "cell_type": "markdown",
      "source": "First, let's import the packages we'll be using in this kernel.",
      "metadata": {}
    },
    {
      "cell_type": "code",
      "source": "import pandas as pd\nimport seaborn as sns\nimport matplotlib.pyplot as pl",
      "execution_count": null,
      "outputs": [],
      "metadata": {}
    },
    {
      "cell_type": "markdown",
      "source": "I'll read the file using Pandas",
      "metadata": {}
    },
    {
      "cell_type": "code",
      "source": "poke = pd.read_csv('../input/pokemonGO.csv')",
      "execution_count": null,
      "outputs": [],
      "metadata": {}
    },
    {
      "cell_type": "markdown",
      "source": "Let's take a look at the data",
      "metadata": {}
    },
    {
      "cell_type": "code",
      "source": "poke.head()",
      "execution_count": null,
      "outputs": [],
      "metadata": {}
    },
    {
      "cell_type": "markdown",
      "source": "I'm not gonna be using the Image URL and Pokemon No. fields. So, I'll drop them",
      "metadata": {}
    },
    {
      "cell_type": "code",
      "source": "poke = poke.drop(['Image URL','Pokemon No.'],1)",
      "execution_count": null,
      "outputs": [],
      "metadata": {}
    },
    {
      "cell_type": "markdown",
      "source": "Let's start using Seaborn to visualize the Pokemon battle stats.\nBelow is an example of a [jointplot][1] \n\n\n  [1]: http://seaborn.pydata.org/generated/seaborn.jointplot.html\nI am comparing Max CP and Max HP here",
      "metadata": {}
    },
    {
      "cell_type": "code",
      "source": "sns.jointplot(x=\"Max CP\", y=\"Max HP\", data=poke);",
      "execution_count": null,
      "outputs": [],
      "metadata": {}
    },
    {
      "cell_type": "markdown",
      "source": "Isn't that something cool. Let's try some more examples. \nBelow is an example of a [boxplot][1]\n\n\n  [1]: http://seaborn.pydata.org/generated/seaborn.boxplot.html",
      "metadata": {}
    },
    {
      "cell_type": "code",
      "source": "sns.boxplot(data=poke);",
      "execution_count": null,
      "outputs": [],
      "metadata": {}
    },
    {
      "cell_type": "markdown",
      "source": "The  below [swarmplot][1] is somewhat similar to jointplot. Isn't it?\n\n\n  [1]: http://seaborn.pydata.org/generated/seaborn.swarmplot.html#seaborn.swarmplot",
      "metadata": {}
    },
    {
      "cell_type": "code",
      "source": "sns.swarmplot(x=\"Max CP\", y=\"Max HP\", data=poke);",
      "execution_count": null,
      "outputs": [],
      "metadata": {}
    },
    {
      "cell_type": "markdown",
      "source": "Tired of dots and swarms. Let's do something interesting with the [barplot][1]\n\n\n  [1]: http://seaborn.pydata.org/generated/seaborn.barplot.html#seaborn.barplot\n\nDoesn't it look like an equalizer?",
      "metadata": {}
    },
    {
      "cell_type": "code",
      "source": "sns.barplot(x=\"Max CP\", y=\"Max HP\", data=poke);",
      "execution_count": null,
      "outputs": [],
      "metadata": {}
    },
    {
      "cell_type": "markdown",
      "source": "Let's do one more and call it a day. Here's the '[pointplot][1]\n\n\n  [1]: http://seaborn.pydata.org/generated/seaborn.pointplot.html",
      "metadata": {}
    },
    {
      "cell_type": "code",
      "source": "sns.pointplot(x=\"Max CP\", y=\"Max HP\", data=poke);",
      "execution_count": null,
      "outputs": [],
      "metadata": {}
    },
    {
      "cell_type": "markdown",
      "source": "Thank you for reading! I hope you enjoyed the show. \nKeep learning, sharing and of course, visualizing!",
      "metadata": {}
    },
    {
      "cell_type": "code",
      "source": "",
      "execution_count": null,
      "outputs": [],
      "metadata": {}
    },
    {
      "cell_type": "code",
      "source": null,
      "execution_count": null,
      "outputs": [],
      "metadata": {}
    }
  ]
}